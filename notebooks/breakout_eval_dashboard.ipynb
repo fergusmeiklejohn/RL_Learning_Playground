{
  "cells": [
    {
      "cell_type": "markdown",
      "metadata": {},
      "source": [
        "# Breakout Evaluation Dashboard\n",
        "\n",
        "Load the exported evaluation CSVs (see `runs/eval_reports/`) and explore serve timing and per-life success rates.\n",
        "Update the paths below to point at the run you want to inspect if you produce additional reports."
      ]
    },
    {
      "cell_type": "code",
      "execution_count": null,
      "metadata": {},
      "outputs": [],
      "source": [
        "from pathlib import Path\n",
        "import pandas as pd\n",
        "import matplotlib.pyplot as plt\n",
        "from IPython.display import display\n",
        "\n",
        "# Adjust these paths if you exported evaluation data elsewhere\n",
        "PROJECT_ROOT = Path.cwd()\n",
        "if not (PROJECT_ROOT / 'runs').exists():\n",
        "    PROJECT_ROOT = PROJECT_ROOT.parent\n",
        "EVAL_ROOT = PROJECT_ROOT / 'runs' / 'eval_reports'\n",
        "PER_LIFE_DEFAULT = EVAL_ROOT / 'deterministic' / 'per_life.csv'\n",
        "PER_GAME_DEFAULT = EVAL_ROOT / 'deterministic' / 'per_game.csv'\n",
        "\n",
        "per_life_path = PER_LIFE_DEFAULT\n",
        "per_game_path = PER_GAME_DEFAULT\n",
        "\n",
        "if not per_life_path.exists() or not per_game_path.exists():\n",
        "    raise FileNotFoundError(\n",
        "        f'Could not find evaluation exports at {per_life_path} / {per_game_path}.\\n'\n",
        "        'Run `python -m src.simple_game.evaluate --output-dir runs/eval_reports/...` first, '\n",
        "        'or update `per_life_path` / `per_game_path` above.'\n",
        "    )\n",
        "\n",
        "per_life = pd.read_csv(per_life_path)\n",
        "per_game = pd.read_csv(per_game_path)\n",
        "\n",
        "lives_with_reward_share = (per_life['positive_events'] > 0).mean()\n",
        "print(f'Share of lives scoring \u22651: {lives_with_reward_share:.2%}')\n",
        "\n",
        "if 'positive_life_ratio' in per_game.columns:\n",
        "    mean_ratio = per_game['positive_life_ratio'].mean()\n",
        "    print(f'Mean positive-life ratio across games: {mean_ratio:.2%}')\n",
        "\n",
        "first_hits = per_life.loc[per_life['first_positive_step'] >= 0, 'first_positive_step']\n",
        "if not first_hits.empty:\n",
        "    ax = first_hits.hist(bins=20, figsize=(6, 4))\n",
        "    ax.set_title('Frames until first positive reward (per life)')\n",
        "    ax.set_xlabel('Environment steps')\n",
        "    ax.set_ylabel('Count')\n",
        "    plt.tight_layout()\n",
        "else:\n",
        "    print('No positive events recorded in the selected run.')\n",
        "\n",
        "plt.show()\n"
      ]
    },
    {
      "cell_type": "code",
      "execution_count": null,
      "metadata": {},
      "outputs": [],
      "source": [
        "# Plot brick-hit streaks / positive events per life across games\n",
        "life_seq = per_life.sort_values(['game_index', 'life_index']).copy()\n",
        "life_seq['life_order'] = life_seq.groupby('game_index').cumcount()\n",
        "\n",
        "fig, ax = plt.subplots(figsize=(8, 4))\n",
        "for game_idx, group in life_seq.groupby('game_index'):\n",
        "    ax.plot(group['life_order'], group['positive_events'], marker='o', label=f'Game {game_idx}')\n",
        "\n",
        "ax.set_title('Positive reward events per life (by game)')\n",
        "ax.set_xlabel('Life order within game')\n",
        "ax.set_ylabel('Positive events (brick hits)')\n",
        "ax.set_xticks(range(int(life_seq['life_order'].max()) + 1))\n",
        "ax.legend(loc='upper right', bbox_to_anchor=(1.25, 1.0))\n",
        "plt.tight_layout()\n",
        "plt.show()\n",
        "\n",
        "# Inspect lives with high FIRE usage but zero reward\n",
        "high_fire_zero = life_seq[(life_seq['positive_events'] == 0) & (life_seq['fire_presses'] >= 5)]\n",
        "if not high_fire_zero.empty:\n",
        "    display(high_fire_zero[['game_index', 'life_index', 'fire_presses', 'length']]\n",
        "            .sort_values('fire_presses', ascending=False)\n",
        "            .head(10))\n",
        "else:\n",
        "    print('No high-FIRE zero-reward lives found in this run.')\n"
      ]
    }
  ],
  "metadata": {
    "kernelspec": {
      "display_name": "Python 3",
      "language": "python",
      "name": "python3"
    },
    "language_info": {
      "name": "python",
      "version": "3.11"
    }
  },
  "nbformat": 4,
  "nbformat_minor": 5
}